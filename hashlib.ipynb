{
 "cells": [
  {
   "cell_type": "code",
   "execution_count": 7,
   "metadata": {},
   "outputs": [
    {
     "data": {
      "text/plain": [
       "'205fa0c5454aac460257ffbb71ecf0cb29e1b255e23eac8ce74c158264fad97b882fc78db9bc3cbe91ef6d20b885cfe9400f46598eab0710c61eabc859ee7d37a18b'"
      ]
     },
     "execution_count": 7,
     "metadata": {},
     "output_type": "execute_result"
    }
   ],
   "source": [
    "import hashlib\n",
    "import binascii\n",
    "\n",
    "x = hashlib.pbkdf2_hmac(\"sha1\", b\"123456\", int.to_bytes(0x255f0e9178f44a63b45da10693ffbc97,length=16, byteorder='big'), 1000, 66)\n",
    "binascii.hexlify(x).decode()"
   ]
  },
  {
   "cell_type": "markdown",
   "metadata": {},
   "source": [
    "6e88be8bad7eae9d9e10aa061224034fed48d03fcbad968b56006784539d5214\n",
    "6e88be8bad7eae9d9e10aa061224034fed48d03fcbad968b56006784539d5214\n",
    "\n",
    "205fa0c5454aac460257ffbb71ecf0cb29e1b255e23eac8ce74c158264fad97b882fc78db9bc3cbe91ef6d20b885cfe9400f46598eab0710c61eabc859ee7d37a18b\n",
    "205fa0c5454aac460257ffbb71ecf0cb29e1b255e23eac8ce74c158264fad97b882fc78db9bc3cbe91ef6d20b885cfe9400f46598eab0710c61eabc859ee7d37a18b"
   ]
  }
 ],
 "metadata": {
  "kernelspec": {
   "display_name": "base",
   "language": "python",
   "name": "python3"
  },
  "language_info": {
   "codemirror_mode": {
    "name": "ipython",
    "version": 3
   },
   "file_extension": ".py",
   "mimetype": "text/x-python",
   "name": "python",
   "nbconvert_exporter": "python",
   "pygments_lexer": "ipython3",
   "version": "3.10.9"
  }
 },
 "nbformat": 4,
 "nbformat_minor": 2
}
